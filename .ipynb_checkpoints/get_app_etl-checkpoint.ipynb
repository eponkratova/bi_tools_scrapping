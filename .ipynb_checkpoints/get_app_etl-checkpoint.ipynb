{
 "cells": [
  {
   "cell_type": "code",
   "execution_count": null,
   "metadata": {},
   "outputs": [],
   "source": [
    "import requests\n",
    "import time\n",
    "import csv\n",
    "import sys\n",
    "from bs4 import BeautifulSoup\n",
    "import requests\n",
    "import pandas as pd\n",
    "import numpy as np\n",
    "\n",
    "url = \"https://www.getapp.com/business-intelligence-analytics-software/\"\n",
    "page = requests.get(url)\n",
    "soup = BeautifulSoup(page.text,\"html.parser\")\n",
    "print(soup.prettify())"
   ]
  },
  {
   "cell_type": "code",
   "execution_count": null,
   "metadata": {},
   "outputs": [],
   "source": [
    "sitelist = ['https://www.getapp.com/business-intelligence-analytics-software/?page='+str(i) for i in range(0,21)]\n",
    "data = []\n",
    "count = 0\n",
    "for site in sitelist:\n",
    "    page = requests.get(site)\n",
    "    soup = BeautifulSoup(page.text, \"html.parser\")\n",
    "    names = soup.find_all('div', class_ = 'short-overview')\n",
    "    count +=1\n",
    "    for i in names: \n",
    "        name = i.text.strip()\n",
    "        nextsite = 'https://www.getapp.com' + i.a['href']\n",
    "        onepage = requests.get(nextsite)\n",
    "        onesoup = BeautifulSoup(onepage.text, \"html.parser\")\n",
    "        title = onesoup.find('a', class_ = 'premium-listing-clickout')\n",
    "        data.append((title))    \n",
    "df = pd.DataFrame(np.array(data))"
   ]
  },
  {
   "cell_type": "code",
   "execution_count": null,
   "metadata": {},
   "outputs": [],
   "source": [
    "page_num = 0\n",
    "http_status_okay = True\n",
    "data = []\n",
    "while http_status_okay:\n",
    "    page_num = page_num + 1\n",
    "    time.sleep(60) #delay time requests are sent so we don't get kicked by server\n",
    "    sitelist = \"https://www.getapp.com/business-intelligence-analytics-software/?page={}\".format(page_num)\n",
    "    #sitelist = ['https://www.getapp.com/business-intelligence-analytics-software/?page='+str(i) for i in range(0,21)] \n",
    "    page = requests.get(sitelist)\n",
    "    soup = BeautifulSoup(page.text, \"html.parser\")    \n",
    "    names = soup.find_all('div', class_ = 'short-overview')     \n",
    "    for i in names: \n",
    "        name = i.text.strip()\n",
    "        nextsite = 'https://www.getapp.com' + i.a['href']\n",
    "        onepage = requests.get(nextsite)\n",
    "        onesoup = BeautifulSoup(onepage.text, \"html.parser\")\n",
    "        title = onesoup.find_all('div', class_= 'pull-left')\n",
    "        full_name = []\n",
    "        for i in title:\n",
    "            nme = i.text\n",
    "            full_name.append(nme)\n",
    "        if page.status_code is 200:\n",
    "            http_status_okay = True\n",
    "        else:\n",
    "            http_status_okay = False  \n",
    "            print(full_name[0])"
   ]
  },
  {
   "cell_type": "code",
   "execution_count": null,
   "metadata": {},
   "outputs": [],
   "source": [
    "    for i in names: \n",
    "        name = i.text.strip()\n",
    "        nextsite = 'https://www.getapp.com' + i.a['href']\n",
    "        onepage = requests.get(nextsite)\n",
    "        onesoup = BeautifulSoup(onepage.text, \"html.parser\")\n",
    "        title = onesoup.find('div', class_ = 'pull-left')\n",
    "        print(i)\n",
    "        #full_name = []\n",
    "        #for i in title:\n",
    "        #    nme = i.text\n",
    "            #full_name.append(nme)        \n",
    "        #data.append((full_name))  \n",
    "#df = pd.DataFrame(np.array(data)) \n"
   ]
  },
  {
   "cell_type": "code",
   "execution_count": null,
   "metadata": {},
   "outputs": [],
   "source": [
    "url = \"https://www.getapp.com/security-software/a/deliveryslip/\"\n",
    "page = requests.get(url)\n",
    "soup = BeautifulSoup(page.text,\"html.parser\")\n",
    "names = soup.find_all('div', class_ = 'pull-left')\n",
    "full_name = []\n",
    "for i in names:\n",
    "    name = i.text\n",
    "    full_name.append(name)\n",
    "print(full_name)"
   ]
  }
 ],
 "metadata": {
  "kernelspec": {
   "display_name": "python3.5",
   "language": "python",
   "name": "python3.5"
  },
  "language_info": {
   "codemirror_mode": {
    "name": "ipython",
    "version": 2
   },
   "file_extension": ".py",
   "mimetype": "text/x-python",
   "name": "python",
   "nbconvert_exporter": "python",
   "pygments_lexer": "ipython2",
   "version": "2.7.15"
  }
 },
 "nbformat": 4,
 "nbformat_minor": 2
}
