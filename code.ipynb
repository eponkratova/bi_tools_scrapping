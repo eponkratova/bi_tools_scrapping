{
 "cells": [
  {
   "cell_type": "code",
   "execution_count": 49,
   "metadata": {},
   "outputs": [],
   "source": [
    "import requests\n",
    "import time\n",
    "import csv\n",
    "import sys\n",
    "from bs4 import BeautifulSoup\n",
    "import requests\n",
    "\n",
    "url = \"https://www.capterra.com/business-intelligence-software//\"\n",
    "page = requests.get(url)\n",
    "soup = BeautifulSoup(page.text,\"html.parser\")\n",
    "#print(soup.prettify())"
   ]
  },
  {
   "cell_type": "code",
   "execution_count": null,
   "metadata": {},
   "outputs": [],
   "source": [
    "names = soup.find_all('h2', class_ = 'listing-name')\n",
    "full_name = []\n",
    "for i in names:\n",
    "    name = i.text.strip()\n",
    "    full_name.append(str(name))\n",
    "ranking = soup.find_all('div', class_ = 'review-information')\n",
    "full_rating = []\n",
    "for i in ranking:\n",
    "    rating = i.text.strip()\n",
    "    full_rating.append(str(rating))\n",
    "url = soup.find_all('div', class_ = 'grid-slim')\n",
    "full_url = []\n",
    "for i in url:\n",
    "    url = i.a['href'] \n",
    "    full_url.append(str('https://www.capterra.com' + url))\n",
    "print(zip(full_name, full_url, full_rating))"
   ]
  },
  {
   "cell_type": "code",
   "execution_count": null,
   "metadata": {},
   "outputs": [],
   "source": [
    "with open ('newtownabbeyrentalproperties.csv','w') as file:\n",
    "    writer=csv.writer(file)\n",
    "    writer.writerow(['Address', 'Price'])\n",
    "    for row in houses:\n",
    "        writer.writerow(row)"
   ]
  }
 ],
 "metadata": {
  "kernelspec": {
   "display_name": "python3.5",
   "language": "python",
   "name": "python3.5"
  },
  "language_info": {
   "codemirror_mode": {
    "name": "ipython",
    "version": 2
   },
   "file_extension": ".py",
   "mimetype": "text/x-python",
   "name": "python",
   "nbconvert_exporter": "python",
   "pygments_lexer": "ipython2",
   "version": "2.7.15"
  }
 },
 "nbformat": 4,
 "nbformat_minor": 2
}
